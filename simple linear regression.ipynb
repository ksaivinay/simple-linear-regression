{
 "cells": [
  {
   "cell_type": "code",
   "execution_count": 1,
   "id": "3de9d261",
   "metadata": {},
   "outputs": [],
   "source": [
    "import pandas as pd\n",
    "import numpy as np\n",
    "import matplotlib.pyplot as plt\n",
    "from sklearn.linear_model import LinearRegression"
   ]
  },
  {
   "cell_type": "code",
   "execution_count": 2,
   "id": "6bd0958e",
   "metadata": {},
   "outputs": [
    {
     "name": "stdout",
     "output_type": "stream",
     "text": [
      "      x          y\n",
      "0    77  79.775152\n",
      "1    21  23.177279\n",
      "2    22  25.609262\n",
      "3    20  17.857388\n",
      "4    36  41.849864\n",
      "..   ..        ...\n",
      "295  71  68.545888\n",
      "296  46  47.334876\n",
      "297  55  54.090637\n",
      "298  62  63.297171\n",
      "299  47  52.459467\n",
      "\n",
      "[300 rows x 2 columns]\n"
     ]
    }
   ],
   "source": [
    "data = pd.read_csv(r\"\"\"C:\\Users\\guntu\\Desktop\\data science\\linear regression\\test.csv\"\"\")\n",
    "print(data)"
   ]
  },
  {
   "cell_type": "code",
   "execution_count": 3,
   "id": "52b4719c",
   "metadata": {},
   "outputs": [
    {
     "data": {
      "text/plain": [
       "x    0\n",
       "y    0\n",
       "dtype: int64"
      ]
     },
     "execution_count": 3,
     "metadata": {},
     "output_type": "execute_result"
    }
   ],
   "source": [
    "data.isnull().sum() #There are no null value in the training dataset"
   ]
  },
  {
   "cell_type": "code",
   "execution_count": 4,
   "id": "ed648439",
   "metadata": {},
   "outputs": [
    {
     "data": {
      "text/plain": [
       "(300, 2)"
      ]
     },
     "execution_count": 4,
     "metadata": {},
     "output_type": "execute_result"
    }
   ],
   "source": [
    "data.shape #There are 300 rows and 2 columsn in the dataset"
   ]
  },
  {
   "cell_type": "code",
   "execution_count": 5,
   "id": "305d2b99",
   "metadata": {},
   "outputs": [
    {
     "name": "stdout",
     "output_type": "stream",
     "text": [
      "        x          y\n",
      "0    24.0  21.549452\n",
      "1    50.0  47.464463\n",
      "2    15.0  17.218656\n",
      "3    38.0  36.586398\n",
      "4    87.0  87.288984\n",
      "..    ...        ...\n",
      "695  58.0  58.595006\n",
      "696  93.0  94.625094\n",
      "697  82.0  88.603770\n",
      "698  66.0  63.648685\n",
      "699  97.0  94.975266\n",
      "\n",
      "[700 rows x 2 columns]\n"
     ]
    }
   ],
   "source": [
    "data_1 = pd.read_csv(r\"\"\"C:\\Users\\guntu\\Desktop\\data science\\linear regression\\train.csv\"\"\")\n",
    "print(data_1)"
   ]
  },
  {
   "cell_type": "code",
   "execution_count": 6,
   "id": "2f11ec95",
   "metadata": {},
   "outputs": [
    {
     "data": {
      "text/plain": [
       "x    0\n",
       "y    1\n",
       "dtype: int64"
      ]
     },
     "execution_count": 6,
     "metadata": {},
     "output_type": "execute_result"
    }
   ],
   "source": [
    "data_1.isnull().sum() #There is one missing values in our training dataset"
   ]
  },
  {
   "cell_type": "code",
   "execution_count": 7,
   "id": "a21c16b4",
   "metadata": {},
   "outputs": [
    {
     "data": {
      "text/plain": [
       "(700, 2)"
      ]
     },
     "execution_count": 7,
     "metadata": {},
     "output_type": "execute_result"
    }
   ],
   "source": [
    "data_1.shape"
   ]
  },
  {
   "cell_type": "markdown",
   "id": "908555ff",
   "metadata": {},
   "source": [
    "### Dropping the missing value as the missing value count is less"
   ]
  },
  {
   "cell_type": "code",
   "execution_count": 8,
   "id": "c8e19790",
   "metadata": {},
   "outputs": [],
   "source": [
    "data_2 = data_1.dropna()"
   ]
  },
  {
   "cell_type": "code",
   "execution_count": 9,
   "id": "593a8bc5",
   "metadata": {},
   "outputs": [
    {
     "data": {
      "text/plain": [
       "(699, 2)"
      ]
     },
     "execution_count": 9,
     "metadata": {},
     "output_type": "execute_result"
    }
   ],
   "source": [
    "data_2.shape # As we dropped the one missing value the shape of the data is 699 rows and two columns"
   ]
  },
  {
   "cell_type": "markdown",
   "id": "bd8bad91",
   "metadata": {},
   "source": [
    "#### As the testing data has no decimals like we have in training set we should reshape the data same as test data before training "
   ]
  },
  {
   "cell_type": "markdown",
   "id": "9454d0ec",
   "metadata": {},
   "source": [
    "# Reshape to fit"
   ]
  },
  {
   "cell_type": "code",
   "execution_count": 10,
   "id": "2e98da7a",
   "metadata": {},
   "outputs": [
    {
     "data": {
      "text/plain": [
       "array([[24.],\n",
       "       [50.],\n",
       "       [15.],\n",
       "       [38.],\n",
       "       [87.],\n",
       "       [36.],\n",
       "       [12.],\n",
       "       [81.],\n",
       "       [25.],\n",
       "       [ 5.],\n",
       "       [16.],\n",
       "       [16.],\n",
       "       [24.],\n",
       "       [39.],\n",
       "       [54.],\n",
       "       [60.],\n",
       "       [26.],\n",
       "       [73.],\n",
       "       [29.],\n",
       "       [31.]])"
      ]
     },
     "execution_count": 10,
     "metadata": {},
     "output_type": "execute_result"
    }
   ],
   "source": [
    "x_train = np.array(data_2.iloc[:,0].values)\n",
    "x_train = x_train.reshape(-1,1)\n",
    "x_train[:20]"
   ]
  },
  {
   "cell_type": "code",
   "execution_count": 11,
   "id": "3ac8f6cf",
   "metadata": {},
   "outputs": [
    {
     "data": {
      "text/plain": [
       "array([21.54945196, 47.46446305, 17.21865634, 36.58639803, 87.28898389,\n",
       "       32.46387493, 10.78089683, 80.7633986 , 24.61215147,  6.96331907,\n",
       "       11.23757338, 13.53290206, 24.60323899, 39.40049976, 48.43753838,\n",
       "       61.69900319, 26.92832418, 70.4052055 , 29.34092408, 25.30895192])"
      ]
     },
     "execution_count": 11,
     "metadata": {},
     "output_type": "execute_result"
    }
   ],
   "source": [
    "y_train = np.array(data_2.iloc[:,1].values)\n",
    "y_train[:20]"
   ]
  },
  {
   "cell_type": "code",
   "execution_count": 12,
   "id": "c673d274",
   "metadata": {},
   "outputs": [
    {
     "name": "stdout",
     "output_type": "stream",
     "text": [
      "[[77]\n",
      " [21]\n",
      " [22]\n",
      " [20]\n",
      " [36]\n",
      " [15]\n",
      " [62]\n",
      " [95]\n",
      " [20]\n",
      " [ 5]\n",
      " [ 4]\n",
      " [19]\n",
      " [96]\n",
      " [62]\n",
      " [36]\n",
      " [15]\n",
      " [65]\n",
      " [14]\n",
      " [87]\n",
      " [69]]\n",
      "[79.77515201 23.17727887 25.60926156 17.85738813 41.84986439  9.80523488\n",
      " 58.87465933 97.61793701 18.39512747  8.74674765  2.81141583 17.09537241\n",
      " 95.14907176 61.38800663 40.24701716 14.82248589 66.95806869 16.63507984\n",
      " 90.65513736 77.22982636]\n"
     ]
    }
   ],
   "source": [
    "x_test = np.array(data.iloc[:,0].values)\n",
    "y_test = np.array(data.iloc[:,1].values)\n",
    "x_test = x_test.reshape(-1,1)\n",
    "print(x_test[:20])\n",
    "print(y_test[:20])"
   ]
  },
  {
   "cell_type": "code",
   "execution_count": 13,
   "id": "99df447b",
   "metadata": {},
   "outputs": [
    {
     "data": {
      "text/plain": [
       "array([76.94327594, 20.90651855, 21.90717494, 19.90586217, 35.91636428,\n",
       "       14.90258026, 61.93343021, 94.95509081, 19.90586217,  4.89601644,\n",
       "        3.89536006, 18.90520579, 95.95574719, 61.93343021, 35.91636428,\n",
       "       14.90258026, 64.93539936, 13.90192388, 86.94983976, 68.93802488])"
      ]
     },
     "execution_count": 13,
     "metadata": {},
     "output_type": "execute_result"
    }
   ],
   "source": [
    "reg = LinearRegression()\n",
    "reg.fit(x_train,y_train)\n",
    "\n",
    "y_predict = reg.predict(x_test)\n",
    "y_predict[:20]"
   ]
  },
  {
   "cell_type": "markdown",
   "id": "6bc7e98f",
   "metadata": {},
   "source": [
    "# Scatterplot for prediction"
   ]
  },
  {
   "cell_type": "code",
   "execution_count": 14,
   "id": "f935866f",
   "metadata": {},
   "outputs": [
    {
     "data": {
      "image/png": "[encoded data removed]",
      "text/plain": [
       "<Figure size 432x288 with 1 Axes>"
      ]
     },
     "metadata": {
      "needs_background": "light"
     },
     "output_type": "display_data"
    },
    {
     "name": "stdout",
     "output_type": "stream",
     "text": [
      "Model Accuracy : 98.88014444327563\n"
     ]
    }
   ],
   "source": [
    "plt.scatter(x_test,y_test,color=\"black\")\n",
    "plt.plot(x_test,y_predict,color=\"yellow\")\n",
    "plt.title(\"Linear Regression\")\n",
    "plt.show()\n",
    "\n",
    "print(\"Model Accuracy : {accuracy}\".format(accuracy = reg.score(x_test,y_test)*100))"
   ]
  },
  {
   "cell_type": "code",
   "execution_count": null,
   "id": "77e18e18",
   "metadata": {},
   "outputs": [],
   "source": []
  }
 ],
 "metadata": {
  "kernelspec": {
   "display_name": "Python 3",
   "language": "python",
   "name": "python3"
  },
  "language_info": {
   "codemirror_mode": {
    "name": "ipython",
    "version": 3
   },
   "file_extension": ".py",
   "mimetype": "text/x-python",
   "name": "python",
   "nbconvert_exporter": "python",
   "pygments_lexer": "ipython3",
   "version": "3.8.8"
  }
 },
 "nbformat": 4,
 "nbformat_minor": 5
}
